{
 "cells": [
  {
   "cell_type": "markdown",
   "metadata": {},
   "source": [
    "### Why Transformation of features are also required?\n",
    " 1. There are some of algorith which uses Gradient Descent like : Linear Regression(Global Minima), Logistic Regression\n",
    " 2. There are some algorithm which uses KNN, Kmean, Heirarichal Clustering  which uses Euclidean Distance i.e We try to find out      the distance between 2 groups\n",
    " 3. Ensemble algorithm like - D.tree, Random Forest, Xgboost does not require Transformation\n",
    " 4. Deep Learning Techniques like- ANN, CNN, RNN, we require Scaling and transformation of features"
   ]
  },
  {
   "cell_type": "markdown",
   "metadata": {},
   "source": [
    "### Topics Covered in this Notebook\n"
   ]
  },
  {
   "cell_type": "markdown",
   "metadata": {},
   "source": [
    "1. Normalization and Standardization\n",
    "2. Scaling to Minimum and Maximum values\n",
    "3. Scaling to Medians and Quantiles\n",
    "4. Gaussian Transformation"
   ]
  },
  {
   "cell_type": "markdown",
   "metadata": {},
   "source": [
    "### Gaussian Transformation Techniques "
   ]
  },
  {
   "cell_type": "markdown",
   "metadata": {},
   "source": [
    "1. Logarithmic Transformation\n",
    "2. Reciprocal Transformation\n",
    "3. Square root transformation\n",
    "4. Box Cox Transformation\n",
    "5. Exponential Transformation"
   ]
  },
  {
   "cell_type": "markdown",
   "metadata": {},
   "source": [
    "### Standardization (Majorly Used for better Performance)\n",
    "We Try to Bring all the variable or Features to similar scale, Standardization means centering the variable at 0.\n",
    "\n",
    "z=(x-x_mean)/std"
   ]
  },
  {
   "cell_type": "code",
   "execution_count": 1,
   "metadata": {},
   "outputs": [],
   "source": [
    "import numpy as np\n",
    "import pandas as pd\n",
    "import matplotlib.pyplot as plt\n",
    "import seaborn as sns\n",
    "%matplotlib inline\n"
   ]
  },
  {
   "cell_type": "code",
   "execution_count": 2,
   "metadata": {},
   "outputs": [],
   "source": [
    "df=pd.read_csv('titanic.csv',usecols=['Pclass','Age','Fare','Survived'])"
   ]
  },
  {
   "cell_type": "code",
   "execution_count": 3,
   "metadata": {},
   "outputs": [
    {
     "data": {
      "text/html": [
       "<div>\n",
       "<style scoped>\n",
       "    .dataframe tbody tr th:only-of-type {\n",
       "        vertical-align: middle;\n",
       "    }\n",
       "\n",
       "    .dataframe tbody tr th {\n",
       "        vertical-align: top;\n",
       "    }\n",
       "\n",
       "    .dataframe thead th {\n",
       "        text-align: right;\n",
       "    }\n",
       "</style>\n",
       "<table border=\"1\" class=\"dataframe\">\n",
       "  <thead>\n",
       "    <tr style=\"text-align: right;\">\n",
       "      <th></th>\n",
       "      <th>Survived</th>\n",
       "      <th>Pclass</th>\n",
       "      <th>Age</th>\n",
       "      <th>Fare</th>\n",
       "    </tr>\n",
       "  </thead>\n",
       "  <tbody>\n",
       "    <tr>\n",
       "      <th>0</th>\n",
       "      <td>0</td>\n",
       "      <td>3</td>\n",
       "      <td>22.0</td>\n",
       "      <td>7.2500</td>\n",
       "    </tr>\n",
       "    <tr>\n",
       "      <th>1</th>\n",
       "      <td>1</td>\n",
       "      <td>1</td>\n",
       "      <td>38.0</td>\n",
       "      <td>71.2833</td>\n",
       "    </tr>\n",
       "    <tr>\n",
       "      <th>2</th>\n",
       "      <td>1</td>\n",
       "      <td>3</td>\n",
       "      <td>26.0</td>\n",
       "      <td>7.9250</td>\n",
       "    </tr>\n",
       "    <tr>\n",
       "      <th>3</th>\n",
       "      <td>1</td>\n",
       "      <td>1</td>\n",
       "      <td>35.0</td>\n",
       "      <td>53.1000</td>\n",
       "    </tr>\n",
       "    <tr>\n",
       "      <th>4</th>\n",
       "      <td>0</td>\n",
       "      <td>3</td>\n",
       "      <td>35.0</td>\n",
       "      <td>8.0500</td>\n",
       "    </tr>\n",
       "  </tbody>\n",
       "</table>\n",
       "</div>"
      ],
      "text/plain": [
       "   Survived  Pclass   Age     Fare\n",
       "0         0       3  22.0   7.2500\n",
       "1         1       1  38.0  71.2833\n",
       "2         1       3  26.0   7.9250\n",
       "3         1       1  35.0  53.1000\n",
       "4         0       3  35.0   8.0500"
      ]
     },
     "execution_count": 3,
     "metadata": {},
     "output_type": "execute_result"
    }
   ],
   "source": [
    "df.head()"
   ]
  },
  {
   "cell_type": "code",
   "execution_count": 4,
   "metadata": {},
   "outputs": [],
   "source": [
    "df['Age'].fillna(df.Age.median(),inplace=True)"
   ]
  },
  {
   "cell_type": "code",
   "execution_count": 5,
   "metadata": {},
   "outputs": [
    {
     "data": {
      "text/plain": [
       "Survived    0\n",
       "Pclass      0\n",
       "Age         0\n",
       "Fare        0\n",
       "dtype: int64"
      ]
     },
     "execution_count": 5,
     "metadata": {},
     "output_type": "execute_result"
    }
   ],
   "source": [
    "df.isnull().sum()"
   ]
  },
  {
   "cell_type": "code",
   "execution_count": 6,
   "metadata": {},
   "outputs": [],
   "source": [
    "## We use StandardScaler from Sklearn Library\n",
    "\n",
    "from sklearn.preprocessing import StandardScaler"
   ]
  },
  {
   "cell_type": "code",
   "execution_count": 7,
   "metadata": {},
   "outputs": [],
   "source": [
    "scaler=StandardScaler()"
   ]
  },
  {
   "cell_type": "code",
   "execution_count": 8,
   "metadata": {},
   "outputs": [],
   "source": [
    "#fit vs fit_transform\n",
    "# fit is used for ML algorithm\n",
    "#fit_transform is used when we need to transform the entire Feature \n",
    "\n",
    "df_scaled=scaler.fit_transform(df)"
   ]
  },
  {
   "cell_type": "code",
   "execution_count": 9,
   "metadata": {},
   "outputs": [
    {
     "data": {
      "text/plain": [
       "array([[-0.78927234,  0.82737724, -0.56573646, -0.50244517],\n",
       "       [ 1.2669898 , -1.56610693,  0.66386103,  0.78684529],\n",
       "       [ 1.2669898 ,  0.82737724, -0.25833709, -0.48885426],\n",
       "       ...,\n",
       "       [-0.78927234,  0.82737724, -0.1046374 , -0.17626324],\n",
       "       [ 1.2669898 , -1.56610693, -0.25833709, -0.04438104],\n",
       "       [-0.78927234,  0.82737724,  0.20276197, -0.49237783]])"
      ]
     },
     "execution_count": 9,
     "metadata": {},
     "output_type": "execute_result"
    }
   ],
   "source": [
    "df_scaled # We have to convert it into DataFrame"
   ]
  },
  {
   "cell_type": "code",
   "execution_count": 10,
   "metadata": {},
   "outputs": [
    {
     "data": {
      "text/html": [
       "<div>\n",
       "<style scoped>\n",
       "    .dataframe tbody tr th:only-of-type {\n",
       "        vertical-align: middle;\n",
       "    }\n",
       "\n",
       "    .dataframe tbody tr th {\n",
       "        vertical-align: top;\n",
       "    }\n",
       "\n",
       "    .dataframe thead th {\n",
       "        text-align: right;\n",
       "    }\n",
       "</style>\n",
       "<table border=\"1\" class=\"dataframe\">\n",
       "  <thead>\n",
       "    <tr style=\"text-align: right;\">\n",
       "      <th></th>\n",
       "      <th>0</th>\n",
       "      <th>1</th>\n",
       "      <th>2</th>\n",
       "      <th>3</th>\n",
       "    </tr>\n",
       "  </thead>\n",
       "  <tbody>\n",
       "    <tr>\n",
       "      <th>0</th>\n",
       "      <td>-0.789272</td>\n",
       "      <td>0.827377</td>\n",
       "      <td>-0.565736</td>\n",
       "      <td>-0.502445</td>\n",
       "    </tr>\n",
       "    <tr>\n",
       "      <th>1</th>\n",
       "      <td>1.266990</td>\n",
       "      <td>-1.566107</td>\n",
       "      <td>0.663861</td>\n",
       "      <td>0.786845</td>\n",
       "    </tr>\n",
       "    <tr>\n",
       "      <th>2</th>\n",
       "      <td>1.266990</td>\n",
       "      <td>0.827377</td>\n",
       "      <td>-0.258337</td>\n",
       "      <td>-0.488854</td>\n",
       "    </tr>\n",
       "    <tr>\n",
       "      <th>3</th>\n",
       "      <td>1.266990</td>\n",
       "      <td>-1.566107</td>\n",
       "      <td>0.433312</td>\n",
       "      <td>0.420730</td>\n",
       "    </tr>\n",
       "    <tr>\n",
       "      <th>4</th>\n",
       "      <td>-0.789272</td>\n",
       "      <td>0.827377</td>\n",
       "      <td>0.433312</td>\n",
       "      <td>-0.486337</td>\n",
       "    </tr>\n",
       "    <tr>\n",
       "      <th>...</th>\n",
       "      <td>...</td>\n",
       "      <td>...</td>\n",
       "      <td>...</td>\n",
       "      <td>...</td>\n",
       "    </tr>\n",
       "    <tr>\n",
       "      <th>886</th>\n",
       "      <td>-0.789272</td>\n",
       "      <td>-0.369365</td>\n",
       "      <td>-0.181487</td>\n",
       "      <td>-0.386671</td>\n",
       "    </tr>\n",
       "    <tr>\n",
       "      <th>887</th>\n",
       "      <td>1.266990</td>\n",
       "      <td>-1.566107</td>\n",
       "      <td>-0.796286</td>\n",
       "      <td>-0.044381</td>\n",
       "    </tr>\n",
       "    <tr>\n",
       "      <th>888</th>\n",
       "      <td>-0.789272</td>\n",
       "      <td>0.827377</td>\n",
       "      <td>-0.104637</td>\n",
       "      <td>-0.176263</td>\n",
       "    </tr>\n",
       "    <tr>\n",
       "      <th>889</th>\n",
       "      <td>1.266990</td>\n",
       "      <td>-1.566107</td>\n",
       "      <td>-0.258337</td>\n",
       "      <td>-0.044381</td>\n",
       "    </tr>\n",
       "    <tr>\n",
       "      <th>890</th>\n",
       "      <td>-0.789272</td>\n",
       "      <td>0.827377</td>\n",
       "      <td>0.202762</td>\n",
       "      <td>-0.492378</td>\n",
       "    </tr>\n",
       "  </tbody>\n",
       "</table>\n",
       "<p>891 rows × 4 columns</p>\n",
       "</div>"
      ],
      "text/plain": [
       "            0         1         2         3\n",
       "0   -0.789272  0.827377 -0.565736 -0.502445\n",
       "1    1.266990 -1.566107  0.663861  0.786845\n",
       "2    1.266990  0.827377 -0.258337 -0.488854\n",
       "3    1.266990 -1.566107  0.433312  0.420730\n",
       "4   -0.789272  0.827377  0.433312 -0.486337\n",
       "..        ...       ...       ...       ...\n",
       "886 -0.789272 -0.369365 -0.181487 -0.386671\n",
       "887  1.266990 -1.566107 -0.796286 -0.044381\n",
       "888 -0.789272  0.827377 -0.104637 -0.176263\n",
       "889  1.266990 -1.566107 -0.258337 -0.044381\n",
       "890 -0.789272  0.827377  0.202762 -0.492378\n",
       "\n",
       "[891 rows x 4 columns]"
      ]
     },
     "execution_count": 10,
     "metadata": {},
     "output_type": "execute_result"
    }
   ],
   "source": [
    "pd.DataFrame(df_scaled)"
   ]
  },
  {
   "cell_type": "code",
   "execution_count": 11,
   "metadata": {},
   "outputs": [
    {
     "data": {
      "text/plain": [
       "(array([216.,   0.,   0.,   0.,   0.,   0.,   0.,   0.,   0.,   0.,   0.,\n",
       "          0.,   0.,   0.,   0.,   0.,   0.,   0.,   0.,   0.,   0.,   0.,\n",
       "          0.,   0.,   0., 184.,   0.,   0.,   0.,   0.,   0.,   0.,   0.,\n",
       "          0.,   0.,   0.,   0.,   0.,   0.,   0.,   0.,   0.,   0.,   0.,\n",
       "          0.,   0.,   0.,   0.,   0., 491.]),\n",
       " array([-1.56610693, -1.51823724, -1.47036756, -1.42249788, -1.37462819,\n",
       "        -1.32675851, -1.27888883, -1.23101914, -1.18314946, -1.13527978,\n",
       "        -1.08741009, -1.03954041, -0.99167073, -0.94380104, -0.89593136,\n",
       "        -0.84806167, -0.80019199, -0.75232231, -0.70445262, -0.65658294,\n",
       "        -0.60871326, -0.56084357, -0.51297389, -0.46510421, -0.41723452,\n",
       "        -0.36936484, -0.32149516, -0.27362547, -0.22575579, -0.17788611,\n",
       "        -0.13001642, -0.08214674, -0.03427706,  0.01359263,  0.06146231,\n",
       "         0.10933199,  0.15720168,  0.20507136,  0.25294104,  0.30081073,\n",
       "         0.34868041,  0.39655009,  0.44441978,  0.49228946,  0.54015914,\n",
       "         0.58802883,  0.63589851,  0.68376819,  0.73163788,  0.77950756,\n",
       "         0.82737724]),\n",
       " <a list of 50 Patch objects>)"
      ]
     },
     "execution_count": 11,
     "metadata": {},
     "output_type": "execute_result"
    },
    {
     "data": {
      "image/png": "[encoded data removed]",
      "text/plain": [
       "<Figure size 432x288 with 1 Axes>"
      ]
     },
     "metadata": {
      "needs_background": "light"
     },
     "output_type": "display_data"
    }
   ],
   "source": [
    "plt.hist(df_scaled[:,1],bins=50) # plotting histogram after taking all the records and 1 column from df_scaled.(df_scaled[:,1]) "
   ]
  },
  {
   "cell_type": "code",
   "execution_count": 12,
   "metadata": {},
   "outputs": [
    {
     "data": {
      "text/plain": [
       "(array([ 24.,   6.,  14.,   3.,   7.,   8.,   6.,   3.,   7.,  22.,  13.,\n",
       "         51.,  40.,  27.,  46.,  24.,  36., 224.,  27.,  35.,  17.,  34.,\n",
       "         29.,  11.,  27.,   8.,  18.,   9.,  17.,  18.,   6.,  17.,   6.,\n",
       "          9.,   7.,   2.,   7.,   4.,   7.,   4.,   3.,   1.,   0.,   2.,\n",
       "          3.,   0.,   1.,   0.,   0.,   1.]),\n",
       " array([-2.22415608, -2.10184187, -1.97952766, -1.85721345, -1.73489924,\n",
       "        -1.61258503, -1.49027082, -1.36795661, -1.24564239, -1.12332818,\n",
       "        -1.00101397, -0.87869976, -0.75638555, -0.63407134, -0.51175713,\n",
       "        -0.38944292, -0.26712871, -0.1448145 , -0.02250029,  0.09981392,\n",
       "         0.22212813,  0.34444234,  0.46675655,  0.58907076,  0.71138498,\n",
       "         0.83369919,  0.9560134 ,  1.07832761,  1.20064182,  1.32295603,\n",
       "         1.44527024,  1.56758445,  1.68989866,  1.81221287,  1.93452708,\n",
       "         2.05684129,  2.1791555 ,  2.30146971,  2.42378392,  2.54609813,\n",
       "         2.66841235,  2.79072656,  2.91304077,  3.03535498,  3.15766919,\n",
       "         3.2799834 ,  3.40229761,  3.52461182,  3.64692603,  3.76924024,\n",
       "         3.89155445]),\n",
       " <a list of 50 Patch objects>)"
      ]
     },
     "execution_count": 12,
     "metadata": {},
     "output_type": "execute_result"
    },
    {
     "data": {
      "image/png": "[encoded data removed]",
      "text/plain": [
       "<Figure size 432x288 with 1 Axes>"
      ]
     },
     "metadata": {
      "needs_background": "light"
     },
     "output_type": "display_data"
    }
   ],
   "source": [
    "plt.hist(df_scaled[:,2],bins=50)"
   ]
  },
  {
   "cell_type": "code",
   "execution_count": 13,
   "metadata": {},
   "outputs": [
    {
     "data": {
      "text/plain": [
       "(array([337., 182., 147.,  50.,  16.,  39.,  18.,  29.,  18.,   2.,   8.,\n",
       "          7.,   0.,   7.,   9.,   0.,   2.,   0.,   0.,   0.,   4.,   1.,\n",
       "          4.,   0.,   2.,   6.,   0.,   0.,   0.,   0.,   0.,   0.,   0.,\n",
       "          0.,   0.,   0.,   0.,   0.,   0.,   0.,   0.,   0.,   0.,   0.,\n",
       "          0.,   0.,   0.,   0.,   0.,   3.]),\n",
       " array([-0.64842165, -0.44210989, -0.23579813, -0.02948636,  0.1768254 ,\n",
       "         0.38313716,  0.58944893,  0.79576069,  1.00207246,  1.20838422,\n",
       "         1.41469598,  1.62100775,  1.82731951,  2.03363127,  2.23994304,\n",
       "         2.4462548 ,  2.65256656,  2.85887833,  3.06519009,  3.27150185,\n",
       "         3.47781362,  3.68412538,  3.89043715,  4.09674891,  4.30306067,\n",
       "         4.50937244,  4.7156842 ,  4.92199596,  5.12830773,  5.33461949,\n",
       "         5.54093125,  5.74724302,  5.95355478,  6.15986654,  6.36617831,\n",
       "         6.57249007,  6.77880184,  6.9851136 ,  7.19142536,  7.39773713,\n",
       "         7.60404889,  7.81036065,  8.01667242,  8.22298418,  8.42929594,\n",
       "         8.63560771,  8.84191947,  9.04823123,  9.254543  ,  9.46085476,\n",
       "         9.66716653]),\n",
       " <a list of 50 Patch objects>)"
      ]
     },
     "execution_count": 13,
     "metadata": {},
     "output_type": "execute_result"
    },
    {
     "data": {
      "image/png": "[encoded data removed]",
      "text/plain": [
       "<Figure size 432x288 with 1 Axes>"
      ]
     },
     "metadata": {
      "needs_background": "light"
     },
     "output_type": "display_data"
    }
   ],
   "source": [
    "plt.hist(df_scaled[:,3],bins=50) # Data is Right Skewed"
   ]
  },
  {
   "cell_type": "code",
   "execution_count": 14,
   "metadata": {},
   "outputs": [
    {
     "data": {
      "text/plain": [
       "(array([337., 182., 147.,  50.,  16.,  39.,  18.,  29.,  18.,   2.,   8.,\n",
       "          7.,   0.,   7.,   9.,   0.,   2.,   0.,   0.,   0.,   4.,   1.,\n",
       "          4.,   0.,   2.,   6.,   0.,   0.,   0.,   0.,   0.,   0.,   0.,\n",
       "          0.,   0.,   0.,   0.,   0.,   0.,   0.,   0.,   0.,   0.,   0.,\n",
       "          0.,   0.,   0.,   0.,   0.,   3.]),\n",
       " array([  0.      ,  10.246584,  20.493168,  30.739752,  40.986336,\n",
       "         51.23292 ,  61.479504,  71.726088,  81.972672,  92.219256,\n",
       "        102.46584 , 112.712424, 122.959008, 133.205592, 143.452176,\n",
       "        153.69876 , 163.945344, 174.191928, 184.438512, 194.685096,\n",
       "        204.93168 , 215.178264, 225.424848, 235.671432, 245.918016,\n",
       "        256.1646  , 266.411184, 276.657768, 286.904352, 297.150936,\n",
       "        307.39752 , 317.644104, 327.890688, 338.137272, 348.383856,\n",
       "        358.63044 , 368.877024, 379.123608, 389.370192, 399.616776,\n",
       "        409.86336 , 420.109944, 430.356528, 440.603112, 450.849696,\n",
       "        461.09628 , 471.342864, 481.589448, 491.836032, 502.082616,\n",
       "        512.3292  ]),\n",
       " <a list of 50 Patch objects>)"
      ]
     },
     "execution_count": 14,
     "metadata": {},
     "output_type": "execute_result"
    },
    {
     "data": {
      "image/png": "[encoded data removed]",
      "text/plain": [
       "<Figure size 432x288 with 1 Axes>"
      ]
     },
     "metadata": {
      "needs_background": "light"
     },
     "output_type": "display_data"
    }
   ],
   "source": [
    "plt.hist(df['Fare'],bins=50) #original Dataset is also Right skewed"
   ]
  },
  {
   "cell_type": "markdown",
   "metadata": {},
   "source": [
    "### Min Max Scaling (Normalization) ---- CNN (Deep Learning- Techniques)"
   ]
  },
  {
   "cell_type": "markdown",
   "metadata": {},
   "source": [
    "1. It Transforms the value between 0 and 1\n",
    "2. X_scaled = (X-X.min) / (X.max-X.min)"
   ]
  },
  {
   "cell_type": "code",
   "execution_count": 15,
   "metadata": {},
   "outputs": [],
   "source": [
    "from sklearn.preprocessing import MinMaxScaler"
   ]
  },
  {
   "cell_type": "code",
   "execution_count": 16,
   "metadata": {},
   "outputs": [],
   "source": [
    "min_max=MinMaxScaler()"
   ]
  },
  {
   "cell_type": "code",
   "execution_count": 17,
   "metadata": {},
   "outputs": [],
   "source": [
    "df_minmax=pd.DataFrame(min_max.fit_transform(df),columns=df.columns)"
   ]
  },
  {
   "cell_type": "code",
   "execution_count": 18,
   "metadata": {},
   "outputs": [
    {
     "data": {
      "text/html": [
       "<div>\n",
       "<style scoped>\n",
       "    .dataframe tbody tr th:only-of-type {\n",
       "        vertical-align: middle;\n",
       "    }\n",
       "\n",
       "    .dataframe tbody tr th {\n",
       "        vertical-align: top;\n",
       "    }\n",
       "\n",
       "    .dataframe thead th {\n",
       "        text-align: right;\n",
       "    }\n",
       "</style>\n",
       "<table border=\"1\" class=\"dataframe\">\n",
       "  <thead>\n",
       "    <tr style=\"text-align: right;\">\n",
       "      <th></th>\n",
       "      <th>Survived</th>\n",
       "      <th>Pclass</th>\n",
       "      <th>Age</th>\n",
       "      <th>Fare</th>\n",
       "    </tr>\n",
       "  </thead>\n",
       "  <tbody>\n",
       "    <tr>\n",
       "      <th>0</th>\n",
       "      <td>0.0</td>\n",
       "      <td>1.0</td>\n",
       "      <td>0.271174</td>\n",
       "      <td>0.014151</td>\n",
       "    </tr>\n",
       "    <tr>\n",
       "      <th>1</th>\n",
       "      <td>1.0</td>\n",
       "      <td>0.0</td>\n",
       "      <td>0.472229</td>\n",
       "      <td>0.139136</td>\n",
       "    </tr>\n",
       "    <tr>\n",
       "      <th>2</th>\n",
       "      <td>1.0</td>\n",
       "      <td>1.0</td>\n",
       "      <td>0.321438</td>\n",
       "      <td>0.015469</td>\n",
       "    </tr>\n",
       "    <tr>\n",
       "      <th>3</th>\n",
       "      <td>1.0</td>\n",
       "      <td>0.0</td>\n",
       "      <td>0.434531</td>\n",
       "      <td>0.103644</td>\n",
       "    </tr>\n",
       "    <tr>\n",
       "      <th>4</th>\n",
       "      <td>0.0</td>\n",
       "      <td>1.0</td>\n",
       "      <td>0.434531</td>\n",
       "      <td>0.015713</td>\n",
       "    </tr>\n",
       "    <tr>\n",
       "      <th>...</th>\n",
       "      <td>...</td>\n",
       "      <td>...</td>\n",
       "      <td>...</td>\n",
       "      <td>...</td>\n",
       "    </tr>\n",
       "    <tr>\n",
       "      <th>886</th>\n",
       "      <td>0.0</td>\n",
       "      <td>0.5</td>\n",
       "      <td>0.334004</td>\n",
       "      <td>0.025374</td>\n",
       "    </tr>\n",
       "    <tr>\n",
       "      <th>887</th>\n",
       "      <td>1.0</td>\n",
       "      <td>0.0</td>\n",
       "      <td>0.233476</td>\n",
       "      <td>0.058556</td>\n",
       "    </tr>\n",
       "    <tr>\n",
       "      <th>888</th>\n",
       "      <td>0.0</td>\n",
       "      <td>1.0</td>\n",
       "      <td>0.346569</td>\n",
       "      <td>0.045771</td>\n",
       "    </tr>\n",
       "    <tr>\n",
       "      <th>889</th>\n",
       "      <td>1.0</td>\n",
       "      <td>0.0</td>\n",
       "      <td>0.321438</td>\n",
       "      <td>0.058556</td>\n",
       "    </tr>\n",
       "    <tr>\n",
       "      <th>890</th>\n",
       "      <td>0.0</td>\n",
       "      <td>1.0</td>\n",
       "      <td>0.396833</td>\n",
       "      <td>0.015127</td>\n",
       "    </tr>\n",
       "  </tbody>\n",
       "</table>\n",
       "<p>891 rows × 4 columns</p>\n",
       "</div>"
      ],
      "text/plain": [
       "     Survived  Pclass       Age      Fare\n",
       "0         0.0     1.0  0.271174  0.014151\n",
       "1         1.0     0.0  0.472229  0.139136\n",
       "2         1.0     1.0  0.321438  0.015469\n",
       "3         1.0     0.0  0.434531  0.103644\n",
       "4         0.0     1.0  0.434531  0.015713\n",
       "..        ...     ...       ...       ...\n",
       "886       0.0     0.5  0.334004  0.025374\n",
       "887       1.0     0.0  0.233476  0.058556\n",
       "888       0.0     1.0  0.346569  0.045771\n",
       "889       1.0     0.0  0.321438  0.058556\n",
       "890       0.0     1.0  0.396833  0.015127\n",
       "\n",
       "[891 rows x 4 columns]"
      ]
     },
     "execution_count": 18,
     "metadata": {},
     "output_type": "execute_result"
    }
   ],
   "source": [
    "df_minmax"
   ]
  },
  {
   "cell_type": "code",
   "execution_count": 19,
   "metadata": {},
   "outputs": [
    {
     "data": {
      "text/plain": [
       "(array([216.,   0.,   0.,   0.,   0.,   0.,   0.,   0.,   0.,   0., 184.,\n",
       "          0.,   0.,   0.,   0.,   0.,   0.,   0.,   0., 491.]),\n",
       " array([0.  , 0.05, 0.1 , 0.15, 0.2 , 0.25, 0.3 , 0.35, 0.4 , 0.45, 0.5 ,\n",
       "        0.55, 0.6 , 0.65, 0.7 , 0.75, 0.8 , 0.85, 0.9 , 0.95, 1.  ]),\n",
       " <a list of 20 Patch objects>)"
      ]
     },
     "execution_count": 19,
     "metadata": {},
     "output_type": "execute_result"
    },
    {
     "data": {
      "image/png": "[encoded data removed]",
      "text/plain": [
       "<Figure size 432x288 with 1 Axes>"
      ]
     },
     "metadata": {
      "needs_background": "light"
     },
     "output_type": "display_data"
    }
   ],
   "source": [
    "plt.hist(df_minmax['Pclass'],bins=20)"
   ]
  },
  {
   "cell_type": "code",
   "execution_count": 20,
   "metadata": {},
   "outputs": [
    {
     "data": {
      "text/plain": [
       "(array([337., 182., 147.,  50.,  16.,  39.,  18.,  29.,  18.,   2.,   8.,\n",
       "          7.,   0.,   7.,   9.,   0.,   2.,   0.,   0.,   0.,   4.,   1.,\n",
       "          4.,   0.,   2.,   6.,   0.,   0.,   0.,   0.,   0.,   0.,   0.,\n",
       "          0.,   0.,   0.,   0.,   0.,   0.,   0.,   0.,   0.,   0.,   0.,\n",
       "          0.,   0.,   0.,   0.,   0.,   3.]),\n",
       " array([0.  , 0.02, 0.04, 0.06, 0.08, 0.1 , 0.12, 0.14, 0.16, 0.18, 0.2 ,\n",
       "        0.22, 0.24, 0.26, 0.28, 0.3 , 0.32, 0.34, 0.36, 0.38, 0.4 , 0.42,\n",
       "        0.44, 0.46, 0.48, 0.5 , 0.52, 0.54, 0.56, 0.58, 0.6 , 0.62, 0.64,\n",
       "        0.66, 0.68, 0.7 , 0.72, 0.74, 0.76, 0.78, 0.8 , 0.82, 0.84, 0.86,\n",
       "        0.88, 0.9 , 0.92, 0.94, 0.96, 0.98, 1.  ]),\n",
       " <a list of 50 Patch objects>)"
      ]
     },
     "execution_count": 20,
     "metadata": {},
     "output_type": "execute_result"
    },
    {
     "data": {
      "image/png": "[encoded data removed]",
      "text/plain": [
       "<Figure size 432x288 with 1 Axes>"
      ]
     },
     "metadata": {
      "needs_background": "light"
     },
     "output_type": "display_data"
    }
   ],
   "source": [
    "plt.hist(df_minmax['Fare'],bins=50)"
   ]
  },
  {
   "cell_type": "code",
   "execution_count": 21,
   "metadata": {},
   "outputs": [
    {
     "data": {
      "text/plain": [
       "(array([ 40.,  14.,  15.,  31.,  79.,  98., 262.,  84.,  73.,  45.,  35.,\n",
       "         35.,  29.,  16.,  13.,  11.,   4.,   5.,   1.,   1.]),\n",
       " array([0.  , 0.05, 0.1 , 0.15, 0.2 , 0.25, 0.3 , 0.35, 0.4 , 0.45, 0.5 ,\n",
       "        0.55, 0.6 , 0.65, 0.7 , 0.75, 0.8 , 0.85, 0.9 , 0.95, 1.  ]),\n",
       " <a list of 20 Patch objects>)"
      ]
     },
     "execution_count": 21,
     "metadata": {},
     "output_type": "execute_result"
    },
    {
     "data": {
      "image/png": "[encoded data removed]",
      "text/plain": [
       "<Figure size 432x288 with 1 Axes>"
      ]
     },
     "metadata": {
      "needs_background": "light"
     },
     "output_type": "display_data"
    }
   ],
   "source": [
    "plt.hist(df_minmax['Age'],bins=20)"
   ]
  },
  {
   "cell_type": "markdown",
   "metadata": {},
   "source": [
    "### Robust Scaler (It is Robust to outliers when Data is skewed)\n"
   ]
  },
  {
   "cell_type": "markdown",
   "metadata": {},
   "source": [
    "1. It is used to scale the feature to median and quantiles\n",
    "2. Scaling using median and quantiles consists of substracting the median to all the observations,and then dividing by the          interquantiles difference\n",
    "3. The interquantile difference is the difference between the 75th and 25th quantile\n",
    "\n",
    "   IQR = 75th quantile - 25th quantile\n",
    "   \n",
    "   X_scaled = (X-X.median)/IQR "
   ]
  },
  {
   "cell_type": "code",
   "execution_count": 22,
   "metadata": {},
   "outputs": [],
   "source": [
    "from sklearn.preprocessing import RobustScaler"
   ]
  },
  {
   "cell_type": "code",
   "execution_count": 23,
   "metadata": {},
   "outputs": [],
   "source": [
    "scaler=RobustScaler()"
   ]
  },
  {
   "cell_type": "code",
   "execution_count": 24,
   "metadata": {},
   "outputs": [],
   "source": [
    "df_robust_scaled=pd.DataFrame(scaler.fit_transform(df),columns=df.columns)"
   ]
  },
  {
   "cell_type": "code",
   "execution_count": 25,
   "metadata": {},
   "outputs": [
    {
     "data": {
      "text/html": [
       "<div>\n",
       "<style scoped>\n",
       "    .dataframe tbody tr th:only-of-type {\n",
       "        vertical-align: middle;\n",
       "    }\n",
       "\n",
       "    .dataframe tbody tr th {\n",
       "        vertical-align: top;\n",
       "    }\n",
       "\n",
       "    .dataframe thead th {\n",
       "        text-align: right;\n",
       "    }\n",
       "</style>\n",
       "<table border=\"1\" class=\"dataframe\">\n",
       "  <thead>\n",
       "    <tr style=\"text-align: right;\">\n",
       "      <th></th>\n",
       "      <th>Survived</th>\n",
       "      <th>Pclass</th>\n",
       "      <th>Age</th>\n",
       "      <th>Fare</th>\n",
       "    </tr>\n",
       "  </thead>\n",
       "  <tbody>\n",
       "    <tr>\n",
       "      <th>0</th>\n",
       "      <td>0.0</td>\n",
       "      <td>0.0</td>\n",
       "      <td>-0.461538</td>\n",
       "      <td>-0.312011</td>\n",
       "    </tr>\n",
       "    <tr>\n",
       "      <th>1</th>\n",
       "      <td>1.0</td>\n",
       "      <td>-2.0</td>\n",
       "      <td>0.769231</td>\n",
       "      <td>2.461242</td>\n",
       "    </tr>\n",
       "    <tr>\n",
       "      <th>2</th>\n",
       "      <td>1.0</td>\n",
       "      <td>0.0</td>\n",
       "      <td>-0.153846</td>\n",
       "      <td>-0.282777</td>\n",
       "    </tr>\n",
       "    <tr>\n",
       "      <th>3</th>\n",
       "      <td>1.0</td>\n",
       "      <td>-2.0</td>\n",
       "      <td>0.538462</td>\n",
       "      <td>1.673732</td>\n",
       "    </tr>\n",
       "    <tr>\n",
       "      <th>4</th>\n",
       "      <td>0.0</td>\n",
       "      <td>0.0</td>\n",
       "      <td>0.538462</td>\n",
       "      <td>-0.277363</td>\n",
       "    </tr>\n",
       "  </tbody>\n",
       "</table>\n",
       "</div>"
      ],
      "text/plain": [
       "   Survived  Pclass       Age      Fare\n",
       "0       0.0     0.0 -0.461538 -0.312011\n",
       "1       1.0    -2.0  0.769231  2.461242\n",
       "2       1.0     0.0 -0.153846 -0.282777\n",
       "3       1.0    -2.0  0.538462  1.673732\n",
       "4       0.0     0.0  0.538462 -0.277363"
      ]
     },
     "execution_count": 25,
     "metadata": {},
     "output_type": "execute_result"
    }
   ],
   "source": [
    "df_robust_scaled.head()"
   ]
  },
  {
   "cell_type": "code",
   "execution_count": 26,
   "metadata": {},
   "outputs": [
    {
     "data": {
      "text/plain": [
       "(array([216.,   0.,   0.,   0.,   0.,   0.,   0.,   0.,   0.,   0., 184.,\n",
       "          0.,   0.,   0.,   0.,   0.,   0.,   0.,   0., 491.]),\n",
       " array([-2. , -1.9, -1.8, -1.7, -1.6, -1.5, -1.4, -1.3, -1.2, -1.1, -1. ,\n",
       "        -0.9, -0.8, -0.7, -0.6, -0.5, -0.4, -0.3, -0.2, -0.1,  0. ]),\n",
       " <a list of 20 Patch objects>)"
      ]
     },
     "execution_count": 26,
     "metadata": {},
     "output_type": "execute_result"
    },
    {
     "data": {
      "image/png": "[encoded data removed]",
      "text/plain": [
       "<Figure size 432x288 with 1 Axes>"
      ]
     },
     "metadata": {
      "needs_background": "light"
     },
     "output_type": "display_data"
    }
   ],
   "source": [
    "plt.hist(df_robust_scaled['Pclass'],bins=20)"
   ]
  },
  {
   "cell_type": "code",
   "execution_count": 27,
   "metadata": {},
   "outputs": [
    {
     "data": {
      "text/plain": [
       "(array([ 40.,  14.,  15.,  31.,  79.,  98., 262.,  84.,  73.,  45.,  35.,\n",
       "         35.,  29.,  16.,  13.,  11.,   4.,   5.,   1.,   1.]),\n",
       " array([-2.12153846, -1.81546154, -1.50938462, -1.20330769, -0.89723077,\n",
       "        -0.59115385, -0.28507692,  0.021     ,  0.32707692,  0.63315385,\n",
       "         0.93923077,  1.24530769,  1.55138462,  1.85746154,  2.16353846,\n",
       "         2.46961538,  2.77569231,  3.08176923,  3.38784615,  3.69392308,\n",
       "         4.        ]),\n",
       " <a list of 20 Patch objects>)"
      ]
     },
     "execution_count": 27,
     "metadata": {},
     "output_type": "execute_result"
    },
    {
     "data": {
      "image/png": "[encoded data removed]",
      "text/plain": [
       "<Figure size 432x288 with 1 Axes>"
      ]
     },
     "metadata": {
      "needs_background": "light"
     },
     "output_type": "display_data"
    }
   ],
   "source": [
    "plt.hist(df_robust_scaled['Age'],bins=20)"
   ]
  },
  {
   "cell_type": "code",
   "execution_count": 28,
   "metadata": {},
   "outputs": [
    {
     "data": {
      "text/plain": [
       "(array([562., 170.,  67.,  39.,  15.,  16.,   2.,   0.,   9.,   2.,   6.,\n",
       "          0.,   0.,   0.,   0.,   0.,   0.,   0.,   0.,   3.]),\n",
       " array([-0.62600478,  0.48343237,  1.59286952,  2.70230667,  3.81174382,\n",
       "         4.92118096,  6.03061811,  7.14005526,  8.24949241,  9.35892956,\n",
       "        10.46836671, 11.57780386, 12.68724101, 13.79667816, 14.90611531,\n",
       "        16.01555246, 17.12498961, 18.23442675, 19.3438639 , 20.45330105,\n",
       "        21.5627382 ]),\n",
       " <a list of 20 Patch objects>)"
      ]
     },
     "execution_count": 28,
     "metadata": {},
     "output_type": "execute_result"
    },
    {
     "data": {
      "image/png": "[encoded data removed]",
      "text/plain": [
       "<Figure size 432x288 with 1 Axes>"
      ]
     },
     "metadata": {
      "needs_background": "light"
     },
     "output_type": "display_data"
    }
   ],
   "source": [
    "plt.hist(df_robust_scaled['Fare'],bins=20)"
   ]
  },
  {
   "cell_type": "markdown",
   "metadata": {},
   "source": [
    "#### Gaussian Distribution (It is called  Normal distribution) there are some techniques by which we can transform the data to Normal distribution\n",
    "\n",
    "\n",
    "###### Some ML Algorithms like Linear, Logistic regression assumes that the features are normally distributed"
   ]
  },
  {
   "cell_type": "markdown",
   "metadata": {},
   "source": [
    "##### If features are normally distributed the model will give very good :\n",
    "1. Accuracy\n",
    "2. Performance"
   ]
  },
  {
   "cell_type": "markdown",
   "metadata": {},
   "source": [
    "##### Gaussian Transformation Techniques"
   ]
  },
  {
   "cell_type": "markdown",
   "metadata": {},
   "source": [
    "1. Logarithmic Transformation\n",
    "2. Reciprocal Transformation\n",
    "3. Square root transformation\n",
    "4. Box Cox Transformation\n",
    "5. Exponential Transformation"
   ]
  },
  {
   "cell_type": "code",
   "execution_count": 29,
   "metadata": {},
   "outputs": [],
   "source": [
    "df1=pd.read_csv('titanic.csv',usecols=['Age','Fare','Survived'])"
   ]
  },
  {
   "cell_type": "code",
   "execution_count": 30,
   "metadata": {},
   "outputs": [
    {
     "data": {
      "text/html": [
       "<div>\n",
       "<style scoped>\n",
       "    .dataframe tbody tr th:only-of-type {\n",
       "        vertical-align: middle;\n",
       "    }\n",
       "\n",
       "    .dataframe tbody tr th {\n",
       "        vertical-align: top;\n",
       "    }\n",
       "\n",
       "    .dataframe thead th {\n",
       "        text-align: right;\n",
       "    }\n",
       "</style>\n",
       "<table border=\"1\" class=\"dataframe\">\n",
       "  <thead>\n",
       "    <tr style=\"text-align: right;\">\n",
       "      <th></th>\n",
       "      <th>Survived</th>\n",
       "      <th>Age</th>\n",
       "      <th>Fare</th>\n",
       "    </tr>\n",
       "  </thead>\n",
       "  <tbody>\n",
       "    <tr>\n",
       "      <th>0</th>\n",
       "      <td>0</td>\n",
       "      <td>22.0</td>\n",
       "      <td>7.2500</td>\n",
       "    </tr>\n",
       "    <tr>\n",
       "      <th>1</th>\n",
       "      <td>1</td>\n",
       "      <td>38.0</td>\n",
       "      <td>71.2833</td>\n",
       "    </tr>\n",
       "    <tr>\n",
       "      <th>2</th>\n",
       "      <td>1</td>\n",
       "      <td>26.0</td>\n",
       "      <td>7.9250</td>\n",
       "    </tr>\n",
       "    <tr>\n",
       "      <th>3</th>\n",
       "      <td>1</td>\n",
       "      <td>35.0</td>\n",
       "      <td>53.1000</td>\n",
       "    </tr>\n",
       "    <tr>\n",
       "      <th>4</th>\n",
       "      <td>0</td>\n",
       "      <td>35.0</td>\n",
       "      <td>8.0500</td>\n",
       "    </tr>\n",
       "  </tbody>\n",
       "</table>\n",
       "</div>"
      ],
      "text/plain": [
       "   Survived   Age     Fare\n",
       "0         0  22.0   7.2500\n",
       "1         1  38.0  71.2833\n",
       "2         1  26.0   7.9250\n",
       "3         1  35.0  53.1000\n",
       "4         0  35.0   8.0500"
      ]
     },
     "execution_count": 30,
     "metadata": {},
     "output_type": "execute_result"
    }
   ],
   "source": [
    "df1.head()"
   ]
  },
  {
   "cell_type": "code",
   "execution_count": 31,
   "metadata": {},
   "outputs": [],
   "source": [
    "df1['Age'].fillna(df1.Age.median(),inplace=True)"
   ]
  },
  {
   "cell_type": "code",
   "execution_count": 32,
   "metadata": {},
   "outputs": [
    {
     "data": {
      "text/html": [
       "<div>\n",
       "<style scoped>\n",
       "    .dataframe tbody tr th:only-of-type {\n",
       "        vertical-align: middle;\n",
       "    }\n",
       "\n",
       "    .dataframe tbody tr th {\n",
       "        vertical-align: top;\n",
       "    }\n",
       "\n",
       "    .dataframe thead th {\n",
       "        text-align: right;\n",
       "    }\n",
       "</style>\n",
       "<table border=\"1\" class=\"dataframe\">\n",
       "  <thead>\n",
       "    <tr style=\"text-align: right;\">\n",
       "      <th></th>\n",
       "      <th>Survived</th>\n",
       "      <th>Age</th>\n",
       "      <th>Fare</th>\n",
       "    </tr>\n",
       "  </thead>\n",
       "  <tbody>\n",
       "    <tr>\n",
       "      <th>0</th>\n",
       "      <td>0</td>\n",
       "      <td>22.0</td>\n",
       "      <td>7.2500</td>\n",
       "    </tr>\n",
       "    <tr>\n",
       "      <th>1</th>\n",
       "      <td>1</td>\n",
       "      <td>38.0</td>\n",
       "      <td>71.2833</td>\n",
       "    </tr>\n",
       "    <tr>\n",
       "      <th>2</th>\n",
       "      <td>1</td>\n",
       "      <td>26.0</td>\n",
       "      <td>7.9250</td>\n",
       "    </tr>\n",
       "    <tr>\n",
       "      <th>3</th>\n",
       "      <td>1</td>\n",
       "      <td>35.0</td>\n",
       "      <td>53.1000</td>\n",
       "    </tr>\n",
       "    <tr>\n",
       "      <th>4</th>\n",
       "      <td>0</td>\n",
       "      <td>35.0</td>\n",
       "      <td>8.0500</td>\n",
       "    </tr>\n",
       "  </tbody>\n",
       "</table>\n",
       "</div>"
      ],
      "text/plain": [
       "   Survived   Age     Fare\n",
       "0         0  22.0   7.2500\n",
       "1         1  38.0  71.2833\n",
       "2         1  26.0   7.9250\n",
       "3         1  35.0  53.1000\n",
       "4         0  35.0   8.0500"
      ]
     },
     "execution_count": 32,
     "metadata": {},
     "output_type": "execute_result"
    }
   ],
   "source": [
    "df1.head()"
   ]
  },
  {
   "cell_type": "code",
   "execution_count": 33,
   "metadata": {},
   "outputs": [
    {
     "data": {
      "text/plain": [
       "Survived    0\n",
       "Age         0\n",
       "Fare        0\n",
       "dtype: int64"
      ]
     },
     "execution_count": 33,
     "metadata": {},
     "output_type": "execute_result"
    }
   ],
   "source": [
    "df1.isnull().sum()"
   ]
  },
  {
   "cell_type": "markdown",
   "metadata": {},
   "source": [
    "#### 1. If you want to check wether feature is Gaussian or Normal Distribution,\n",
    "#####     Than we use (Q-Q plot)"
   ]
  },
  {
   "cell_type": "code",
   "execution_count": 34,
   "metadata": {},
   "outputs": [],
   "source": [
    "import scipy.stats as stat\n",
    "import pylab"
   ]
  },
  {
   "cell_type": "code",
   "execution_count": 35,
   "metadata": {},
   "outputs": [],
   "source": [
    "def plot_data(df,feature):\n",
    "    plt.figure(figsize=(10,6))\n",
    "    plt.subplot(1,2,1)\n",
    "    df[feature].hist()\n",
    "    plt.subplot(1,2,2)\n",
    "    stat.probplot(df[feature],dist='norm',plot=pylab)\n",
    "    plt.show()"
   ]
  },
  {
   "cell_type": "code",
   "execution_count": 36,
   "metadata": {},
   "outputs": [
    {
     "data": {
      "image/png": "[encoded data removed]",
      "text/plain": [
       "<Figure size 720x432 with 2 Axes>"
      ]
     },
     "metadata": {
      "needs_background": "light"
     },
     "output_type": "display_data"
    }
   ],
   "source": [
    "  plot_data(df1,'Fare')"
   ]
  },
  {
   "cell_type": "markdown",
   "metadata": {},
   "source": [
    "#### Logarithmic Transformation"
   ]
  },
  {
   "cell_type": "code",
   "execution_count": 37,
   "metadata": {},
   "outputs": [],
   "source": [
    "df1['Age_log']=np.log(df1['Age'])\n",
    "#Logarithmic Transformation"
   ]
  },
  {
   "cell_type": "code",
   "execution_count": 38,
   "metadata": {},
   "outputs": [
    {
     "data": {
      "image/png": "[encoded data removed]",
      "text/plain": [
       "<Figure size 720x432 with 2 Axes>"
      ]
     },
     "metadata": {
      "needs_background": "light"
     },
     "output_type": "display_data"
    }
   ],
   "source": [
    "plot_data(df1,'Age_log')"
   ]
  },
  {
   "cell_type": "markdown",
   "metadata": {},
   "source": [
    "#### Recirprocal Transformation"
   ]
  },
  {
   "cell_type": "code",
   "execution_count": 39,
   "metadata": {},
   "outputs": [],
   "source": [
    "df1['Age_reciprocal']=1/df1.Age"
   ]
  },
  {
   "cell_type": "code",
   "execution_count": 40,
   "metadata": {},
   "outputs": [
    {
     "data": {
      "image/png": "[encoded data removed]",
      "text/plain": [
       "<Figure size 720x432 with 2 Axes>"
      ]
     },
     "metadata": {
      "needs_background": "light"
     },
     "output_type": "display_data"
    }
   ],
   "source": [
    "plot_data(df1,'Age_reciprocal')"
   ]
  },
  {
   "cell_type": "markdown",
   "metadata": {},
   "source": [
    "####  Square root Transformation"
   ]
  },
  {
   "cell_type": "code",
   "execution_count": 41,
   "metadata": {},
   "outputs": [],
   "source": [
    "df1['Age_sqr']=(df1['Age'])**(1/2)"
   ]
  },
  {
   "cell_type": "code",
   "execution_count": 42,
   "metadata": {},
   "outputs": [
    {
     "data": {
      "image/png": "[encoded data removed]",
      "text/plain": [
       "<Figure size 720x432 with 2 Axes>"
      ]
     },
     "metadata": {
      "needs_background": "light"
     },
     "output_type": "display_data"
    }
   ],
   "source": [
    "plot_data(df1,'Age_sqr')"
   ]
  },
  {
   "cell_type": "markdown",
   "metadata": {},
   "source": [
    "#### Exponential Transformation\n"
   ]
  },
  {
   "cell_type": "code",
   "execution_count": 43,
   "metadata": {},
   "outputs": [],
   "source": [
    "df1['Age_exp']=df1.Age**(1/1.2)"
   ]
  },
  {
   "cell_type": "code",
   "execution_count": 44,
   "metadata": {},
   "outputs": [
    {
     "data": {
      "image/png": "[encoded data removed]",
      "text/plain": [
       "<Figure size 720x432 with 2 Axes>"
      ]
     },
     "metadata": {
      "needs_background": "light"
     },
     "output_type": "display_data"
    }
   ],
   "source": [
    "plot_data(df1,'Age_exp')"
   ]
  },
  {
   "cell_type": "markdown",
   "metadata": {},
   "source": [
    "### Box Cox Transformation"
   ]
  },
  {
   "cell_type": "markdown",
   "metadata": {},
   "source": [
    "The boxcox transformation is defined as:\n",
    "T(y)=(y exp(lambda)-1)/lambda\n",
    "\n",
    "where Y is the response variable and lambda is the transformation parameter. lambda varies from -5 to 5, In the transformation, all values of lambda are considered and the optimal value for a given variable is selected."
   ]
  },
  {
   "cell_type": "code",
   "execution_count": 45,
   "metadata": {},
   "outputs": [
    {
     "data": {
      "text/plain": [
       "(array([13.468119  , 21.4987284 , 15.56341683, 20.05611014, 20.05611014,\n",
       "        16.58601436, 28.84746463,  0.92513402, 16.07664335,  9.01695462,\n",
       "         2.53193075, 30.6104327 , 12.39181078, 21.97437834,  9.01695462,\n",
       "        29.29062758,  0.92513402, 16.58601436, 18.09258499, 16.58601436,\n",
       "        20.05611014, 19.56971919,  9.59722218, 16.58601436,  5.32265694,\n",
       "        21.4987284 , 16.58601436, 11.84551333, 16.58601436, 16.58601436,\n",
       "        22.44755196, 16.58601436, 16.58601436, 34.06447944, 16.58601436,\n",
       "        23.38676361, 16.58601436, 12.93257404, 11.29332892,  9.01695462,\n",
       "        22.44755196, 16.07664335, 16.58601436,  1.75636071, 11.84551333,\n",
       "        16.58601436, 16.58601436, 16.58601436, 16.58601436, 11.29332892,\n",
       "         4.65897047, 12.93257404, 26.60575762, 17.09169505, 33.6375945 ,\n",
       "        16.58601436, 12.93257404, 16.83930618,  3.26857952,  7.221786  ,\n",
       "        13.468119  , 21.4987284 , 24.77874367,  2.53193075, 16.58601436,\n",
       "        16.58601436, 17.09169505, 11.84551333, 10.7348613 , 15.56341683,\n",
       "        18.5880672 , 10.16966246, 12.93257404, 15.56341683, 18.5880672 ,\n",
       "        15.04615552, 16.58601436, 16.58601436, -0.17316296, 17.59383809,\n",
       "        13.468119  , 17.09169505, 16.58601436, 16.58601436, 10.7348613 ,\n",
       "        19.08040717, 10.16966246, 16.58601436, 13.99873002, 14.5246643 ,\n",
       "        17.09169505, 12.39181078, 25.23849092, 15.56341683, 31.04725247,\n",
       "        16.58601436, 36.17964611, 13.99873002, 19.56971919, 19.56971919,\n",
       "        16.58601436, 16.58601436, 12.93257404, 19.08040717, 21.02052347,\n",
       "        16.58601436, 12.93257404, 16.58601436, 21.4987284 , 16.58601436,\n",
       "        25.69620814,  9.30810682, 13.468119  , 12.39181078, 10.7348613 ,\n",
       "        12.93257404, 35.96952764, 17.09169505, 14.5246643 ,  0.92513402,\n",
       "        12.93257404, 16.58601436, 18.83462264, 18.83462264, 28.84746463,\n",
       "         7.83010563, 16.58601436, 14.5246643 , 16.58601436, 24.77874367,\n",
       "        19.08040717, 12.39181078, 25.69620814, 17.09169505, 15.04615552,\n",
       "        13.99873002, 11.84551333, 21.02052347, 10.16966246, 14.5246643 ,\n",
       "        16.58601436, 13.468119  , 14.5246643 , 11.84551333, 11.29332892,\n",
       "        11.84551333, 16.07664335,  5.96962245, 20.78043704, 23.38676361,\n",
       "        27.50777955, 13.468119  , 29.5115929 , 22.68323354, 16.58601436,\n",
       "        27.50777955, 10.16966246, 17.59383809, 16.58601436, 16.58601436,\n",
       "        24.31691197, 22.44755196, 15.56341683, 10.7348613 ,  0.        ,\n",
       "         5.96962245, 16.58601436, 24.77874367, 16.58601436, 16.58601436,\n",
       "        31.91640866,  2.53193075,  0.        , 12.93257404, 29.73215339,\n",
       "        11.29332892, 16.58601436, 27.05768667, 17.59383809, 20.53968021,\n",
       "        16.58601436, 16.58601436,  5.96962245,  0.        ,  2.53193075,\n",
       "        16.58601436, 16.58601436, 24.77874367, 22.44755196, 20.53968021,\n",
       "        18.5880672 , 11.84551333, 11.84551333,  1.75636071, 24.31691197,\n",
       "        30.6104327 , 16.58601436, 23.38676361, 16.58601436, 14.5246643 ,\n",
       "        16.58601436, 16.58601436, 19.56971919, 25.00887439, 11.29332892,\n",
       "         0.92513402, 18.5880672 , 15.56341683, 10.16966246, 22.44755196,\n",
       "        14.5246643 , 20.05611014, 13.468119  , 17.59383809, 16.58601436,\n",
       "        18.09258499, 16.07664335, 23.38676361, 18.5880672 , 17.59383809,\n",
       "        10.16966246, 16.07664335, 27.50777955, 16.58601436, 21.4987284 ,\n",
       "        13.468119  , 11.84551333, 12.66286364, 11.29332892, 16.58601436,\n",
       "        20.05611014, 17.09169505, 31.04725247,  3.26857952, 14.5246643 ,\n",
       "        16.58601436, 24.31691197,  5.32265694, 11.84551333, 19.08040717,\n",
       "        16.58601436, 16.58601436, 17.09169505, 13.468119  , 17.59383809,\n",
       "        24.31691197, 15.04615552, 14.5246643 , 21.02052347, 28.84746463,\n",
       "        16.58601436, 17.09169505, 32.34880427, 17.59383809, 22.9183236 ,\n",
       "        17.09169505, 16.58601436, 17.59383809, 20.05611014, 27.05768667,\n",
       "        16.58601436,  1.75636071, 27.9560795 , 22.44755196, 16.58601436,\n",
       "        20.53968021, 10.16966246, 15.04615552, 30.6104327 , 20.05611014,\n",
       "        16.58601436, 15.04615552, 22.9183236 , 21.02052347, 16.58601436,\n",
       "        32.77978258, 24.77874367, 16.58601436,  4.65897047, 20.05611014,\n",
       "        33.6375945 , 16.58601436, 10.16966246, 11.84551333, 16.58601436,\n",
       "        19.08040717, 17.59383809, 13.468119  , 23.38676361, 13.468119  ,\n",
       "        15.56341683, 11.84551333, 20.53968021, 14.5246643 , 14.5246643 ,\n",
       "        16.58601436, 14.26226663,  0.92513402, 16.58601436, 27.05768667,\n",
       "        16.58601436, 16.58601436, 11.84551333, 16.58601436, 16.58601436,\n",
       "        -0.08067323, 16.58601436, 10.7348613 , 17.59383809, 17.59383809,\n",
       "        14.5246643 , 11.29332892, 15.56341683, 16.58601436, 23.85293864,\n",
       "        15.56341683, 14.5246643 , 28.84746463, 18.09258499, 22.44755196,\n",
       "        13.468119  , 16.07664335, 17.59383809, 13.468119  , 16.58601436,\n",
       "        20.53968021, 31.91640866, 20.53968021, 18.09258499, 10.16966246,\n",
       "        16.58601436, 25.00887439, 21.4987284 , 10.16966246, 16.58601436,\n",
       "        16.58601436, 17.09169505, 22.9183236 , 24.77874367, 24.77874367,\n",
       "         0.92513402, 14.5246643 , 16.58601436, 15.04615552, 20.53968021,\n",
       "        14.5246643 , 22.44755196, 16.58601436,  1.75636071, 23.38676361,\n",
       "        13.99873002, 16.58601436,  9.59722218, 15.04615552, 16.58601436,\n",
       "        16.58601436, 13.468119  , 21.4987284 , 16.58601436, 16.58601436,\n",
       "        22.44755196, 17.09169505, 24.77874367, 20.05611014, 16.58601436,\n",
       "        17.59383809, 31.48256774, 16.58601436, 16.58601436, 14.5246643 ,\n",
       "        15.04615552, 11.29332892, 11.84551333, 13.468119  ,  1.75636071,\n",
       "        16.58601436, 13.468119  , 16.07664335, 12.39181078, 11.84551333,\n",
       "        23.38676361,  0.        , 18.5880672 , 20.05611014, 16.58601436,\n",
       "        11.29332892,  0.        , 20.53968021, 16.58601436, 10.7348613 ,\n",
       "        20.53968021, 12.93257404, 16.58601436, 13.99873002, 14.5246643 ,\n",
       "        13.468119  , 18.09258499, 25.23849092, 13.99873002, 16.58601436,\n",
       "        21.97437834, 15.56341683, 12.93257404, 16.58601436, 12.39181078,\n",
       "        19.56971919, 27.50777955,  1.75636071, 12.93257404, 16.58601436,\n",
       "        16.58601436, 16.58601436, 19.08040717, 16.58601436, 24.31691197,\n",
       "        16.58601436, 19.56971919, 11.29332892, 17.59383809,  6.6020876 ,\n",
       "        16.58601436, 12.93257404, 17.09169505, 16.58601436, 11.29332892,\n",
       "        16.58601436, 16.58601436, 11.84551333, 16.58601436, 18.5880672 ,\n",
       "        16.58601436, 16.58601436, 23.38676361, 10.7348613 , 27.05768667,\n",
       "         9.01695462, 12.93257404, 14.5246643 , 33.20937062, 18.09258499,\n",
       "        24.77874367, 12.39181078, 15.04615552, 16.58601436, 16.58601436,\n",
       "         2.53193075,  8.42818085, 19.56971919,  3.26857952, 27.9560795 ,\n",
       "        20.53968021, 16.58601436, 17.59383809, 26.60575762, 16.58601436,\n",
       "        17.09169505, 33.6375945 , 16.58601436, 27.05768667, 16.58601436,\n",
       "        26.15194721, 19.56971919, 25.69620814, 26.15194721, 16.58601436,\n",
       "        21.4987284 , 16.58601436, 29.73215339, 16.58601436, -0.25710377,\n",
       "        16.58601436, 21.4987284 , 19.08040717, 13.99873002, 13.468119  ,\n",
       "        16.58601436, 19.56971919, 17.09169505, 13.468119  ,  0.92513402,\n",
       "         5.96962245, 16.58601436, 27.05768667, 32.77978258, 15.04615552,\n",
       "        16.58601436, 20.05611014, 30.6104327 , 17.59383809,  5.96962245,\n",
       "        16.58601436, 12.93257404, 29.29062758, 36.17964611, 12.93257404,\n",
       "        16.58601436, 28.84746463, 16.58601436, 15.04615552, 14.5246643 ,\n",
       "        10.7348613 , 12.93257404, 16.58601436, 21.02052347, 10.16966246,\n",
       "        11.29332892, 19.08040717, 16.58601436, 16.58601436, 15.56341683,\n",
       "        17.09169505, 16.58601436, 20.53968021, 28.84746463, 14.5246643 ,\n",
       "        25.69620814, 19.56971919, 16.58601436, 20.53968021, 18.5880672 ,\n",
       "        17.59383809, 13.468119  , 16.58601436, 24.31691197, 16.58601436,\n",
       "        22.68323354, 27.05768667, 16.58601436, 21.97437834, 13.99873002,\n",
       "         0.92513402, 16.58601436, 10.7348613 , 16.58601436, 17.59383809,\n",
       "         4.65897047, 24.77874367, 17.59383809, 16.58601436, 13.468119  ,\n",
       "        20.53968021,  5.96962245,  7.221786  , 18.5880672 , 27.05768667,\n",
       "        33.20937062, 11.84551333, 16.58601436, 19.08040717,  5.32265694,\n",
       "        10.7348613 , 16.07664335, 16.58601436, 13.468119  , 13.468119  ,\n",
       "        32.34880427, 26.15194721, 16.58601436, 21.97437834, 20.53968021,\n",
       "        16.58601436, 22.44755196, 16.58601436, 16.58601436, 16.58601436,\n",
       "        14.5246643 , 11.84551333, 17.09169505, 16.58601436, 18.5880672 ,\n",
       "        32.34880427, 28.40262796, 20.53968021, 16.58601436, 10.16966246,\n",
       "        11.84551333, 19.56971919, 21.97437834, 16.58601436, 18.5880672 ,\n",
       "        15.04615552, 21.97437834, 28.84746463, 20.53968021, 16.58601436,\n",
       "        11.29332892, 25.69620814, 31.48256774, 13.468119  , 16.58601436,\n",
       "        20.05611014, 27.9560795 , 25.69620814, 16.58601436, 21.02052347,\n",
       "        20.53968021, 16.58601436, 26.60575762, 16.58601436, 26.60575762,\n",
       "        14.5246643 , 16.58601436, 16.58601436, 24.31691197, 20.05611014,\n",
       "        20.53968021, 17.59383809, 16.07664335, 13.468119  , 22.44755196,\n",
       "        21.97437834, 16.58601436, 16.58601436, 16.58601436, 20.05611014,\n",
       "        14.5246643 , 19.56971919, 15.56341683,  2.53193075, 15.56341683,\n",
       "        16.07664335, 23.38676361, 12.39181078, 12.93257404, 12.93257404,\n",
       "        31.91640866, 30.17207717, 12.93257404, 15.56341683, 16.58601436,\n",
       "        39.91262372, 27.50777955, 18.5880672 , 16.58601436,  5.96962245,\n",
       "        16.58601436, 18.5880672 , 18.09258499, 22.9183236 , 16.58601436,\n",
       "        12.39181078, 14.5246643 ,  0.92513402, 16.58601436, -0.25710377,\n",
       "        26.15194721, 11.84551333, 29.73215339, 16.58601436, 13.99873002,\n",
       "        16.58601436, 11.29332892, 12.93257404, 16.58601436, 11.29332892,\n",
       "        14.5246643 , 16.58601436, 18.5880672 , 13.99873002, 30.6104327 ,\n",
       "        27.05768667, 22.44755196, 25.69620814, 20.53968021, 12.39181078,\n",
       "        18.5880672 , 15.04615552, 16.58601436, 23.85293864, 16.58601436,\n",
       "        22.44755196, 18.09258499, 35.75910562, 18.09258499, 16.58601436,\n",
       "        11.29332892, 14.78595152, 11.29332892, 23.85293864, 20.53968021,\n",
       "        16.58601436, 16.07664335, 12.39181078,  9.01695462, 31.48256774,\n",
       "        15.04615552,  9.01695462, 11.84551333, 11.29332892,  9.59722218,\n",
       "        18.09258499,  2.53193075, 16.58601436, 15.04615552, 31.48256774,\n",
       "        27.9560795 , 24.31691197, 16.58601436, 26.60575762, 23.38676361,\n",
       "        11.29332892, 20.05611014, 11.29332892, 15.04615552, 15.56341683,\n",
       "        21.97437834, 24.77874367, 23.38676361, 13.468119  , 16.58601436,\n",
       "        14.5246643 , 16.58601436, 26.15194721, 17.09169505, 27.9560795 ,\n",
       "        11.84551333, 21.4987284 , 16.07664335, 16.58601436, 19.08040717,\n",
       "         3.9756268 , 10.7348613 , 19.56971919, 27.05768667, 16.07664335,\n",
       "        12.39181078, 17.59383809, 16.58601436, 15.04615552, 15.04615552,\n",
       "        17.09169505,  7.221786  , 16.58601436, 13.99873002, 13.99873002,\n",
       "        16.83930618, 26.15194721, 20.05611014, 16.58601436, 16.58601436,\n",
       "        16.58601436, 20.53968021, 12.93257404, 14.5246643 , 18.09258499,\n",
       "        35.75910562, 10.16966246, 17.59383809, 11.84551333, 18.09258499,\n",
       "         2.53193075,  3.9756268 , 19.08040717, 13.99873002, 26.15194721,\n",
       "        -0.34289092, 16.58601436, 11.29332892, 19.56971919, 19.08040717,\n",
       "        16.58601436, 22.9183236 , 12.39181078, 20.53968021, 10.16966246,\n",
       "        27.50777955, 16.58601436, 17.84362762, 16.58601436, 18.5880672 ,\n",
       "        14.5246643 , 26.15194721, 30.17207717, 16.58601436, 28.84746463,\n",
       "        11.29332892, 16.58601436,  3.26857952, 16.58601436, 23.85293864,\n",
       "         8.42818085, 10.7348613 , 17.09169505, 16.58601436, 15.04615552,\n",
       "        15.04615552, 11.29332892,  5.32265694,  0.        , 25.23849092,\n",
       "        16.58601436, 10.16966246, 16.58601436, 16.58601436, 15.04615552,\n",
       "        21.97437834, 26.60575762, 18.09258499, 17.59383809, 17.59383809,\n",
       "        19.56971919, 18.09258499,  7.221786  , -0.62638581, 16.07664335,\n",
       "        18.09258499, 21.97437834, 11.29332892, 21.97437834, 19.08040717,\n",
       "        15.56341683, 21.97437834, 20.05611014,  3.9756268 , 17.84362762,\n",
       "        16.58601436, 13.99873002, 18.09258499, 23.85293864,  6.6020876 ,\n",
       "        27.9560795 , 16.07664335, 21.4987284 , 16.07664335,  0.92513402,\n",
       "        16.58601436, 16.58601436,  0.        , 16.58601436, 32.34880427,\n",
       "         9.59722218, -0.17316296, 16.58601436, 13.99873002, 11.29332892,\n",
       "        21.97437834, 12.93257404, 16.58601436, 18.5880672 , 16.58601436,\n",
       "        12.39181078, 10.16966246, 17.59383809, 19.81327339, 10.7348613 ,\n",
       "        23.38676361, 16.58601436, 20.05611014, 16.58601436, 16.58601436,\n",
       "         2.53193075, 37.43412368,  5.96962245, 10.16966246, 24.31691197,\n",
       "        11.29332892, 24.77874367, 27.50777955, 14.5246643 , 16.58601436,\n",
       "        22.9183236 , 12.93257404, 26.15194721, 16.58601436, 14.5246643 ,\n",
       "        23.38676361, 16.07664335, 18.09258499, 16.58601436,  2.53193075,\n",
       "        15.56341683, 25.69620814, 19.08040717, 25.69620814, 16.58601436,\n",
       "         9.59722218, 12.39181078, 11.84551333, 16.58601436, 29.73215339,\n",
       "        15.04615552, 19.08040717, 13.468119  , 16.58601436, 15.04615552,\n",
       "        21.97437834, 16.07664335, 11.84551333, 16.58601436, 15.56341683,\n",
       "        18.5880672 ]),\n",
       " 0.7964531473656952)"
      ]
     },
     "execution_count": 45,
     "metadata": {},
     "output_type": "execute_result"
    }
   ],
   "source": [
    "stat.boxcox(df['Age'])"
   ]
  },
  {
   "cell_type": "code",
   "execution_count": 46,
   "metadata": {},
   "outputs": [],
   "source": [
    "df1['Age_boxcox'],parameters=stat.boxcox(df1['Age'])"
   ]
  },
  {
   "cell_type": "code",
   "execution_count": 47,
   "metadata": {},
   "outputs": [
    {
     "name": "stdout",
     "output_type": "stream",
     "text": [
      "0.7964531473656952\n"
     ]
    }
   ],
   "source": [
    "print(parameters)"
   ]
  },
  {
   "cell_type": "code",
   "execution_count": 48,
   "metadata": {},
   "outputs": [
    {
     "data": {
      "image/png": "[encoded data removed]",
      "text/plain": [
       "<Figure size 720x432 with 2 Axes>"
      ]
     },
     "metadata": {
      "needs_background": "light"
     },
     "output_type": "display_data"
    }
   ],
   "source": [
    "plot_data(df1,'Age_boxcox')"
   ]
  },
  {
   "cell_type": "code",
   "execution_count": 49,
   "metadata": {},
   "outputs": [],
   "source": [
    "## Logarithmic Transformation for Fare\n",
    "\n",
    "df1['Fare_log']=np.log1p(df1['Fare'])"
   ]
  },
  {
   "cell_type": "code",
   "execution_count": 50,
   "metadata": {},
   "outputs": [
    {
     "data": {
      "image/png": "[encoded data removed]",
      "text/plain": [
       "<Figure size 720x432 with 2 Axes>"
      ]
     },
     "metadata": {
      "needs_background": "light"
     },
     "output_type": "display_data"
    }
   ],
   "source": [
    "plot_data(df1,'Fare_log')"
   ]
  },
  {
   "cell_type": "code",
   "execution_count": 51,
   "metadata": {},
   "outputs": [],
   "source": [
    "df1['Fare_boxcox'],parameters=stat.boxcox(df1['Fare']+1)"
   ]
  },
  {
   "cell_type": "code",
   "execution_count": 52,
   "metadata": {},
   "outputs": [
    {
     "data": {
      "image/png": "[encoded data removed]",
      "text/plain": [
       "<Figure size 720x432 with 2 Axes>"
      ]
     },
     "metadata": {
      "needs_background": "light"
     },
     "output_type": "display_data"
    }
   ],
   "source": [
    "plot_data(df1,'Fare_boxcox')"
   ]
  },
  {
   "cell_type": "code",
   "execution_count": null,
   "metadata": {},
   "outputs": [],
   "source": []
  }
 ],
 "metadata": {
  "kernelspec": {
   "display_name": "Python 3",
   "language": "python",
   "name": "python3"
  },
  "language_info": {
   "codemirror_mode": {
    "name": "ipython",
    "version": 3
   },
   "file_extension": ".py",
   "mimetype": "text/x-python",
   "name": "python",
   "nbconvert_exporter": "python",
   "pygments_lexer": "ipython3",
   "version": "3.8.3"
  }
 },
 "nbformat": 4,
 "nbformat_minor": 4
}
